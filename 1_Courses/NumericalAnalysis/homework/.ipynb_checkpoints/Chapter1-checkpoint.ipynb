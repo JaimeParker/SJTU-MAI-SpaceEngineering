{
 "cells": [
  {
   "cell_type": "markdown",
   "id": "b838d402",
   "metadata": {},
   "source": [
    "**Exercise 1.2**: \n",
    "\n",
    "If $x=0.3721478693$ and $y=0.3720230572$, what is the relative error in the computation of $x-y$ using five decimal digits of accuracy?"
   ]
  },
  {
   "cell_type": "code",
   "execution_count": 5,
   "id": "d7e0c934",
   "metadata": {},
   "outputs": [
    {
     "name": "stdout",
     "output_type": "stream",
     "text": [
      "the relative error is: 0.0416\n"
     ]
    }
   ],
   "source": [
    "x = 0.3721478693\n",
    "y = 0.3720230572\n",
    "sub = x - y\n",
    "\n",
    "x_new = 0.37215\n",
    "y_new = 0.37202\n",
    "sub_new = x_new - y_new\n",
    "\n",
    "relative_error = abs(sub - sub_new) / sub\n",
    "print(\"the relative error is: %.4f\" % relative_error)"
   ]
  },
  {
   "cell_type": "markdown",
   "id": "3b5bbc1c",
   "metadata": {},
   "source": [
    "**Exercise 1.3:**\n",
    "\n",
    "Consider the two equivalent functions\n",
    "\n",
    "$$\n",
    "f(x)=x(\\sqrt{x+1}-\\sqrt{x})\n",
    "$$\n",
    "\n",
    "and\n",
    "\n",
    "$$\n",
    "g(x)=\\frac{x}{\\sqrt{x+1}+\\sqrt{x}}\n",
    "$$\n",
    " \n",
    "Compare the function evaluation of $f(500)$ and $g(500)$ using 6 digits and rounding."
   ]
  },
  {
   "cell_type": "code",
   "execution_count": 16,
   "id": "b6bab228",
   "metadata": {},
   "outputs": [
    {
     "name": "stdout",
     "output_type": "stream",
     "text": [
      "f(500)= 11.174755\n",
      "g(500)= 11.174755\n"
     ]
    }
   ],
   "source": [
    "import numpy as np\n",
    "import math\n",
    "x = 500\n",
    "fx = x * (np.sqrt(x+1) - np.sqrt(x))\n",
    "gx = x / (np.sqrt(x+1) + np.sqrt(x))\n",
    "print (\"f(500)= %f\" % round(fx, 6))\n",
    "print (\"g(500)= %f\" % round(gx, 6))"
   ]
  },
  {
   "cell_type": "markdown",
   "id": "9cc39094",
   "metadata": {},
   "source": [
    "**Exercise 1.4:**\n",
    "\n",
    "Evaluate\n",
    "\n",
    "$$\n",
    "f(x)=x^3-6x^2+3x-0.149\n",
    "$$\n",
    "\n",
    "at $x=4.71$ using 3-digit arithmetic and calculate the relative error."
   ]
  },
  {
   "cell_type": "code",
   "execution_count": 18,
   "id": "8dcc758b",
   "metadata": {},
   "outputs": [
    {
     "name": "stdout",
     "output_type": "stream",
     "text": [
      "relative error by using 3 digit arithmetic is 0.0025\n"
     ]
    }
   ],
   "source": [
    "x = 4.71\n",
    "fx = pow(x, 3) - 6*pow(x,2) + 3*x -0.149\n",
    "fx_format = float(\"{0:.3g}\".format(fx))\n",
    "\n",
    "relative_error = abs((fx - fx_format) / fx)\n",
    "print(\"relative error by using 3 digit arithmetic is %.4f\" % relative_error)"
   ]
  },
  {
   "cell_type": "markdown",
   "id": "3a94b7f0",
   "metadata": {},
   "source": [
    "**Exercise 1.5:**\n",
    "\n",
    "Let $p(x)=((x^3-3x^2)+3x)-1$ and $q(x)=((x-3)x+3)x-1$\n",
    "\n",
    "Compare the function values at $x=2.19$ (you may try different accuracy). Please explain the difference."
   ]
  },
  {
   "cell_type": "code",
   "execution_count": 19,
   "id": "af762876",
   "metadata": {},
   "outputs": [
    {
     "name": "stdout",
     "output_type": "stream",
     "text": [
      "1.6851589999999987 1.685159\n"
     ]
    }
   ],
   "source": [
    "x = 2.19\n",
    "px = ((pow(x, 3) - 3*pow(x, 2)) + 3*x) - 1\n",
    "qx = ((x - 3)*x + 3) * x - 1\n",
    "print(px, qx)"
   ]
  },
  {
   "cell_type": "code",
   "execution_count": 26,
   "id": "ba5c3dbb",
   "metadata": {},
   "outputs": [
    {
     "name": "stdout",
     "output_type": "stream",
     "text": [
      "10.503459\n",
      "14.388300000000001\n",
      "4.7961\n",
      "14.388300000000001\n"
     ]
    }
   ],
   "source": [
    "print(2.19*2.19*2.19)\n",
    "print(3*2.19*2.19)\n",
    "print(2.19*2.19)\n",
    "print(3*4.7961)"
   ]
  },
  {
   "cell_type": "markdown",
   "id": "d0453784",
   "metadata": {},
   "source": [
    "**Exercise 1.7:**\n",
    "\n",
    "$$\n",
    "f(x)=\\sqrt{1+x^2}-1\n",
    "$$\n",
    "\n",
    "Explain the difficulty of computing f(x) for small value of $|x|$ and show how it can be circumvented."
   ]
  },
  {
   "cell_type": "code",
   "execution_count": null,
   "id": "9aa7a9a5",
   "metadata": {},
   "outputs": [],
   "source": []
  },
  {
   "cell_type": "markdown",
   "id": "da02bf23",
   "metadata": {},
   "source": [
    "**Exercise 1.11:**\n",
    "\n",
    "Consider the algebraic equation\n",
    "\n",
    "$$\n",
    "x^n+x^{n-1}-a=0, a>0, n>=2\n",
    "$$\n",
    "\n",
    "Show that there is exactly one positive root $\\epsilon(a)$"
   ]
  },
  {
   "cell_type": "code",
   "execution_count": null,
   "id": "9e3d1fa3",
   "metadata": {},
   "outputs": [],
   "source": []
  }
 ],
 "metadata": {
  "kernelspec": {
   "display_name": "Python 3 (ipykernel)",
   "language": "python",
   "name": "python3"
  },
  "language_info": {
   "codemirror_mode": {
    "name": "ipython",
    "version": 3
   },
   "file_extension": ".py",
   "mimetype": "text/x-python",
   "name": "python",
   "nbconvert_exporter": "python",
   "pygments_lexer": "ipython3",
   "version": "3.8.10"
  }
 },
 "nbformat": 4,
 "nbformat_minor": 5
}
