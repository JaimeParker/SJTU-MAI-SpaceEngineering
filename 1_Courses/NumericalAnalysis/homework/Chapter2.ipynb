{
 "cells": [
  {
   "cell_type": "markdown",
   "id": "a64cf90d",
   "metadata": {},
   "source": [
    "**Exercise 2.1**\n",
    "\n",
    "Given the following 4 data points\n",
    "\n",
    "$$\n",
    "\\lbrace (0,1), (1,2), (3,6), (5,7) \\rbrace\n",
    "$$\n",
    "\n",
    "find a polynomial in Lagrange form to interpolate these data"
   ]
  },
  {
   "cell_type": "markdown",
   "id": "04bec0f9",
   "metadata": {},
   "source": [
    "Answer:\n",
    "\n",
    "*Python function design:*\n",
    "\n",
    "* Input: a numpy array of 2 cols, or a list with 2 cols; The first col is $x$ and the second is $f(x)$\n",
    "* Output: coefficient of x in different ranks, and the format should apply fraction number\n",
    "* Function: realize Lagrange interpolation\n",
    "\n",
    "we know that the formula for Lagrange interpolaiton is:\n",
    "\n",
    "$$\n",
    "L_{n,k}(x) = \\prod_{i = 0, i \\neq k}^n \\frac{x-x_i}{x_k-x_i}\n",
    "$$\n",
    "\n",
    "* first step is to hold data points in a numpy array\n",
    "* then calculate the `num` and `den` for each fraction\n",
    "* `den` is quite simple, use multiplication of each $x_k-x_i$, except $i=k$ \n",
    "* `num` seems a little complicated, `FFT` can be used for polynomial multiplication "
   ]
  },
  {
   "cell_type": "code",
   "execution_count": 40,
   "id": "cad9b5c6",
   "metadata": {},
   "outputs": [
    {
     "name": "stdout",
     "output_type": "stream",
     "text": [
      "shape of data (4, 2)\n",
      "[Fraction(1, 1), Fraction(29, 120), Fraction(9, 10), Fraction(-17, 120)]\n",
      "120\n"
     ]
    }
   ],
   "source": [
    "import numpy as np\n",
    "from fractions import Fraction\n",
    "\n",
    "# create x-f(x) lists (numpy array)\n",
    "# actually, data could be export from a csv or excel file\n",
    "# by using pandas or xlread\n",
    "data = np.array([[0, 1], [1, 2], [3, 6], [5, 7]])\n",
    "\n",
    "# get shape of the data array\n",
    "rows = data.shape[0]\n",
    "cols = data.shape[1]\n",
    "print(\"shape of data (%d, %d)\" %(rows, cols))\n",
    "\n",
    "\n",
    "def testGetDen(data, len, index):\n",
    "    final = 1\n",
    "    for i in range (len):\n",
    "        if index != i:\n",
    "            final = final * (data[index, 0] - data[i, 0])\n",
    "\n",
    "    return final\n",
    "    \n",
    "\n",
    "def testGetNum(data, length, index):\n",
    "    prod = [1]\n",
    "\n",
    "    # start from the highest rank, which is len - 1\n",
    "    for i in range (length):\n",
    "        if i != index:\n",
    "            m = len(prod)\n",
    "            n = 2\n",
    "            B = [-data[i, 0], 1]\n",
    "            prod = multiply(prod, B, m, n)\n",
    "\n",
    "    return prod\n",
    "\n",
    "def multiply(A, B, m, n):\n",
    "  \n",
    "    prod = [0] * (m + n - 1)\n",
    "      \n",
    "    # Multiply two polynomials term by term\n",
    "      \n",
    "    # Take ever term of first polynomial\n",
    "    for i in range(m):\n",
    "          \n",
    "        # Multiply the current term of first \n",
    "        # polynomial with every term of \n",
    "        # second polynomial.\n",
    "        for j in range(n):\n",
    "            prod[i + j] += A[i] * B[j]\n",
    "  \n",
    "    return prod\n",
    "\n",
    "\n",
    "def testAll(data):\n",
    "    length = data.shape[0]\n",
    "    coef_list = []\n",
    "    # get coefs\n",
    "    for i in range (length):\n",
    "        coef = Fraction(1/testGetDen(data, length, i)).limit_denominator() \\\n",
    "         * Fraction(data[i, 1]).limit_denominator()\n",
    "        coef_list.append(coef)\n",
    "\n",
    "\n",
    "    final = [Fraction(0,1)] * length\n",
    "\n",
    "    # get nums\n",
    "    for i in range (length):\n",
    "        # on index\n",
    "        num = testGetNum(data, length, i)\n",
    "        for j in range (length):\n",
    "            final[j] += Fraction(num[j]).limit_denominator() * coef_list[i]\n",
    "            \n",
    "    return final\n",
    "        \n",
    "\n",
    "final = testAll(data)\n",
    "print(final)\n",
    "a = final[1].denominator\n",
    "print(a)\n",
    "\n",
    "# according to the lagrange interpolation method\n",
    "class LagrangeSolver:\n",
    "    # init function\n",
    "    def __init__(self, data_array):\n",
    "        # define rows and cols\n",
    "        self.rows = data_array.shape[0]\n",
    "        self.clos = data_array.shape[1]\n",
    "\n",
    "        # store data\n",
    "        self.data = data_array\n",
    "\n",
    "    #def getDen(self):\n",
    "\n",
    "\n"
   ]
  },
  {
   "cell_type": "markdown",
   "id": "094f203d",
   "metadata": {},
   "source": [
    "**Exercise 2.5**\n",
    "\n",
    "Consider a function $f(x)=\\sin(\\pi x)+3x$ at 6 distinct nodes in the interval $[-1, 1]$ to determine the Newton's divided difference formula. The data are given in Table below:\n",
    "\n",
    "| $x$    | -1.0 | -0.6    | -0.2    | 0.2    | 0.6    | 1.0  |\n",
    "| ------ | ---- | ------- | ------- | ------ | ------ | ---- |\n",
    "| $f(x)$ | -3.0 | -2.7511 | -1.1878 | 1.1878 | 2.7511 | 3.0  |"
   ]
  },
  {
   "cell_type": "markdown",
   "id": "0ccd569f",
   "metadata": {},
   "source": [
    "**Exercise 2.6**\n",
    "\n",
    "Construct an approximating polynomial for the following data using Hermite interpolation with Newton's forward difference\n",
    "\n",
    "Table 1:\n",
    "\n",
    "| $x$     | 0.1         | 0.2         | 0.3         | \n",
    "| ------- | ----------- | ----------- | ----------- | \n",
    "| $f(x)$  | -0.29004996 | -0.56079734 | -0.81401972 | \n",
    "| $f'(x)$ | -2.8019975  | -2.6159201  | -2.9734038  | \n",
    "\n",
    "Table 2:\n",
    "\n",
    "| $x$     | -1.0       | -0.5       | 0.0        | 0.5        |\n",
    "| ------- | ---------- | ---------- | ---------- | ---------- |\n",
    "| $f(x)$  | 0.86199480 | 0.95802009 | 1.0986123  | 1.2943767  |\n",
    "| $f'(x)$ | 0.15536240 | 0.23269654 | 0.33333333 | 0.45186776 |"
   ]
  },
  {
   "cell_type": "markdown",
   "id": "1500c053",
   "metadata": {},
   "source": [
    "**Exercise 2.7**\n",
    "\n",
    "Choose equally-spaced 15 points in $[-5,5]$ and get the data points \n",
    "\n",
    "$$\n",
    "\\lbrace x_i,f(x_i) \\rbrace_{i=0}^{14}\n",
    "$$\n",
    "\n",
    "by $f(x)=1/(1+x^2)$. Using piecewise linear interpolation to get the approximation of $f(x)$ in $[-5,5]$ and, compare the result with that obtained by Lagrange interpolation."
   ]
  },
  {
   "cell_type": "code",
   "execution_count": null,
   "id": "9accdda9",
   "metadata": {},
   "outputs": [],
   "source": []
  }
 ],
 "metadata": {
  "kernelspec": {
   "display_name": "Python 3.8.10 64-bit",
   "language": "python",
   "name": "python3"
  },
  "language_info": {
   "codemirror_mode": {
    "name": "ipython",
    "version": 3
   },
   "file_extension": ".py",
   "mimetype": "text/x-python",
   "name": "python",
   "nbconvert_exporter": "python",
   "pygments_lexer": "ipython3",
   "version": "3.8.10"
  },
  "vscode": {
   "interpreter": {
    "hash": "916dbcbb3f70747c44a77c7bcd40155683ae19c65e1c03b4aa3499c5328201f1"
   }
  }
 },
 "nbformat": 4,
 "nbformat_minor": 5
}
