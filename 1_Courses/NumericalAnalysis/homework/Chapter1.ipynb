{
 "cells": [
  {
   "cell_type": "markdown",
   "id": "b838d402",
   "metadata": {},
   "source": [
    "**Exercise 1.2**: \n",
    "\n",
    "If $x=0.3721478693$ and $y=0.3720230572$, what is the relative error in the computation of $x-y$ using five decimal digits of accuracy?"
   ]
  },
  {
   "cell_type": "code",
   "execution_count": 1,
   "id": "d7e0c934",
   "metadata": {},
   "outputs": [
    {
     "name": "stdout",
     "output_type": "stream",
     "text": [
      "the relative error is: 0.0416\n"
     ]
    }
   ],
   "source": [
    "x = 0.3721478693\n",
    "y = 0.3720230572\n",
    "sub = x - y\n",
    "\n",
    "x_new = 0.37215\n",
    "y_new = 0.37202\n",
    "sub_new = x_new - y_new\n",
    "\n",
    "relative_error = abs(sub - sub_new) / sub\n",
    "print(\"the relative error is: %.4f\" % relative_error)"
   ]
  },
  {
   "cell_type": "markdown",
   "id": "3b5bbc1c",
   "metadata": {},
   "source": [
    "**Exercise 1.3:**\n",
    "\n",
    "Consider the two equivalent functions\n",
    "\n",
    "$$\n",
    "f(x)=x(\\sqrt{x+1}-\\sqrt{x})\n",
    "$$\n",
    "\n",
    "and\n",
    "\n",
    "$$\n",
    "g(x)=\\frac{x}{\\sqrt{x+1}+\\sqrt{x}}\n",
    "$$\n",
    " \n",
    "Compare the function evaluation of $f(500)$ and $g(500)$ using 6 digits and rounding."
   ]
  },
  {
   "cell_type": "code",
   "execution_count": 2,
   "id": "b6bab228",
   "metadata": {},
   "outputs": [
    {
     "name": "stdout",
     "output_type": "stream",
     "text": [
      "original fx and gx is: 11.174755300746853 11.174755300747199\n",
      "f(x)=11.150000, relative roundoff error is:0.002220\n",
      "g(x)=11.174800, relative roundoff error is:0.000004\n"
     ]
    }
   ],
   "source": [
    "import numpy as np\n",
    "import math\n",
    "import sigfig\n",
    "from sigfig import round as rd\n",
    "\n",
    "# sigfig link:\n",
    "# https://github.com/drakegroup/sigfig/blob/master/README.rst\n",
    "\n",
    "x = 500\n",
    "fx_real = x * (np.sqrt(x+1) - np.sqrt(x))\n",
    "gx_real = x / (np.sqrt(x+1) + np.sqrt(x))\n",
    "print(\"original fx and gx is:\", fx_real, gx_real)\n",
    "\n",
    "fx = rd(np.sqrt(x+1),sigfigs=6) - rd(np.sqrt(x), sigfigs=6)\n",
    "fx = rd(fx * x, sigfigs=6)\n",
    "fx_re = abs(fx_real - fx) / abs(fx)\n",
    "gx = rd(np.sqrt(x+1), sigfigs=6) + rd(np.sqrt(x), sigfigs=6)\n",
    "gx = rd(x / gx, sigfigs=6)\n",
    "gx_re = abs(gx_real - gx) / abs(gx)\n",
    "print(\"f(x)=%f, relative roundoff error is:%f\" % (fx, fx_re))\n",
    "print(\"g(x)=%f, relative roundoff error is:%f\" % (gx, gx_re))"
   ]
  },
  {
   "cell_type": "markdown",
   "id": "9cc39094",
   "metadata": {},
   "source": [
    "**Exercise 1.4:**\n",
    "\n",
    "Evaluate\n",
    "\n",
    "$$\n",
    "f(x)=x^3-6x^2+3x-0.149\n",
    "$$\n",
    "\n",
    "at $x=4.71$ using 3-digit arithmetic and calculate the relative error."
   ]
  },
  {
   "cell_type": "code",
   "execution_count": 3,
   "id": "8dcc758b",
   "metadata": {},
   "outputs": [
    {
     "name": "stdout",
     "output_type": "stream",
     "text": [
      "relative error by using 3 digit arithmetic is 0.0248\n"
     ]
    }
   ],
   "source": [
    "from sigfig import round as rd\n",
    "x = 4.71\n",
    "fx_raw = pow(x, 3) - 6*pow(x,2) + 3*x -0.149\n",
    "fx_format = float(\"{0:.3g}\".format(fx_raw))\n",
    "\n",
    "fx_new = rd(pow(x,3), sigfigs=3) - rd(6*pow(x,2), sigfigs=3) + rd(3*x-0.149, sigfigs=3)\n",
    "fx_new = rd(fx_new, sigfigs=3)\n",
    "\n",
    "relative_error = abs((fx_new - fx_raw) / fx_raw)\n",
    "print(\"relative error by using 3 digit arithmetic is %.4f\" % relative_error)"
   ]
  },
  {
   "cell_type": "markdown",
   "id": "3a94b7f0",
   "metadata": {},
   "source": [
    "**Exercise 1.5:**\n",
    "\n",
    "Let $p(x)=((x^3-3x^2)+3x)-1$ and $q(x)=((x-3)x+3)x-1$\n",
    "\n",
    "Compare the function values at $x=2.19$ (you may try different accuracy). Please explain the difference."
   ]
  },
  {
   "cell_type": "code",
   "execution_count": 4,
   "id": "af762876",
   "metadata": {},
   "outputs": [
    {
     "name": "stdout",
     "output_type": "stream",
     "text": [
      "p(x) relative error in 3 digit: 0.008996\n",
      "p(x) relative error in 4 digit: 0.003061\n",
      "p(x) relative error in 5 digit: 0.003061\n",
      "q(x) relative error in 3 digit: 0.002873\n",
      "q(x) relative error in 4 digit: 0.000094\n",
      "q(x) relative error in 5 digit: 0.000094\n"
     ]
    },
    {
     "data": {
      "image/png": "[encoded data removed]",
      "text/plain": [
       "<Figure size 432x288 with 1 Axes>"
      ]
     },
     "metadata": {
      "needs_background": "light"
     },
     "output_type": "display_data"
    }
   ],
   "source": [
    "from sigfig import round as rd\n",
    "import matplotlib.pyplot as plt\n",
    "x = 2.19\n",
    "px_raw = ((pow(x, 3) - 3*pow(x, 2)) + 3*x) - 1\n",
    "qx_raw = ((x - 3)*x + 3) * x - 1\n",
    "\n",
    "# 3 digit\n",
    "px_3 = rd(pow(x,3), sigfigs=3) - rd(3*pow(x,2), sigfigs=3) + rd(3*x-1, sigfigs=3)\n",
    "px_3 = rd(px_3, sigfigs=3)\n",
    "qx_3 = rd(rd((x-3)*x+3, sigfigs=3) *x - 1, sigfigs=3)\n",
    "# 4 digit\n",
    "px_4 = rd(pow(x,3), sigfigs=4) - rd(3*pow(x,2), sigfigs=4) + 3*x-1\n",
    "px_4 = rd(px_4, sigfigs=4)\n",
    "qx_4 = rd(rd((x-3)*x+3, sigfigs=4) *x - 1, sigfigs=4)\n",
    "# 5 digit\n",
    "px_5 = rd(pow(x,3), sigfigs=5) - rd(3*pow(x,2), sigfigs=5) + 3*x-1\n",
    "px_5 = rd(px_4, sigfigs=3)\n",
    "qx_5 = rd(((x-3)*x+3) *x - 1, sigfigs=4)\n",
    "\n",
    "# error\n",
    "print(\"p(x) relative error in 3 digit: %f\" % abs((px_3-px_raw)/px_raw))\n",
    "print(\"p(x) relative error in 4 digit: %f\" % abs((px_4-px_raw)/px_raw))\n",
    "print(\"p(x) relative error in 5 digit: %f\" % abs((px_5-px_raw)/px_raw))\n",
    "print(\"q(x) relative error in 3 digit: %f\" % abs((qx_3-qx_raw)/qx_raw))\n",
    "print(\"q(x) relative error in 4 digit: %f\" % abs((qx_4-qx_raw)/qx_raw))\n",
    "print(\"q(x) relative error in 5 digit: %f\" % abs((qx_5-qx_raw)/qx_raw))\n",
    "\n",
    "# plot\n",
    "x = [3, 4, 5]\n",
    "y_p = [abs((px_3-px_raw)/px_raw), abs((px_4-px_raw)/px_raw), abs((px_5-px_raw)/px_raw)]\n",
    "y_q = [abs((qx_3-qx_raw)/qx_raw), abs((qx_4-qx_raw)/qx_raw), abs((qx_5-qx_raw)/qx_raw)]\n",
    "fig, ax = plt.subplots()\n",
    "ax.plot(x, y_p, label=\"$p(x)$\")\n",
    "ax.plot(x, y_q, label=\"$q(x)$\")\n",
    "plt.xlabel('digits')\n",
    "plt.ylabel('relative error')\n",
    "plt.legend()\n",
    "plt.show()"
   ]
  },
  {
   "cell_type": "markdown",
   "id": "1730b260",
   "metadata": {},
   "source": [
    "the trend of relative error of $p(x)$ and $q(x)$ is presented in this figure.\n",
    "\n",
    "It can be concluded that \n",
    "* by using **higher digits arithmetic**, higher the precison will be;\n",
    "* by performing **less multiplication process**, higher the precision will be;"
   ]
  },
  {
   "cell_type": "markdown",
   "id": "d0453784",
   "metadata": {},
   "source": [
    "**Exercise 1.7:**\n",
    "\n",
    "$$\n",
    "f(x)=\\sqrt{1+x^2}-1\n",
    "$$\n",
    "\n",
    "Explain the difficulty of computing f(x) for small value of $|x|$ and show how it can be circumvented."
   ]
  },
  {
   "cell_type": "markdown",
   "id": "6517fab8",
   "metadata": {},
   "source": [
    "* When $x$ is quite small, which means $|x|$ is definitely less than $1$ and $x\\rightarrow 0$.\n",
    "\n",
    "* It's obvious that $x^2<x$ while $0<x<1$, and actually $x^2$ is high-order infinitesimal of $x$;\n",
    "\n",
    "* after the `sqrt` operation, $x^2$ almost has nothing to do with the final of $\\sqrt{1+x^2}$ which is nearly equal to $1$;\n",
    "\n",
    "So it's difficult for computing $f(x)$ while $|x|$ is small.\n",
    "\n",
    "However, we can use $\\sqrt{x^2+1}-1$'s equivalent infinitesimal, which is $\\frac12 x^2$, and it can be proved.\n",
    "\n",
    "$$\n",
    "\\lim_{x \\to 0} \\cfrac{\\sqrt{1+x^2}-1}{\\cfrac12 x^2}=\n",
    "\\lim_{x \\to 0} \\cfrac{\\cfrac12 \\times 2x}{\\cfrac12 \\times 2x} = 1\n",
    "$$\n",
    "\n",
    "the method is, while $|x|$ is quite small, we shall use $\\frac12 x^2$ instead of $\\sqrt{x^2+1}-1$"
   ]
  },
  {
   "cell_type": "code",
   "execution_count": 5,
   "id": "9aa7a9a5",
   "metadata": {},
   "outputs": [
    {
     "data": {
      "image/png": "[encoded data removed]",
      "text/plain": [
       "<Figure size 432x288 with 1 Axes>"
      ]
     },
     "metadata": {
      "needs_background": "light"
     },
     "output_type": "display_data"
    }
   ],
   "source": [
    "import numpy as np\n",
    "import matplotlib.pyplot as plt\n",
    "\n",
    "x = np.arange(-0.1, 0.1, 0.0001)\n",
    "y = np.sqrt(1 + pow(x, 2)) - 1 - 0.5*pow(x,2)\n",
    "\n",
    "plt.plot(x, y, label=\"$\\sqrt{1+x^2}-1-0.5x^2$\")\n",
    "plt.xlabel(\"x\")\n",
    "plt.ylabel(\"y\")\n",
    "plt.legend()\n",
    "plt.show()"
   ]
  },
  {
   "cell_type": "markdown",
   "id": "da02bf23",
   "metadata": {},
   "source": [
    "**Exercise 1.11:**\n",
    "\n",
    "Consider the algebraic equation\n",
    "\n",
    "$$\n",
    "x^n+x^{n-1}-a=0, a>0, n>=2\n",
    "$$\n",
    "\n",
    "Show that there is exactly one positive root $\\xi(a)$"
   ]
  },
  {
   "cell_type": "markdown",
   "id": "239d7d58",
   "metadata": {},
   "source": [
    "set function\n",
    "$$\n",
    "f(x)=x^n+x^{n-1}-a\n",
    "$$\n",
    "\n",
    "It's obvious that $f(0)=-a<0$\n",
    "\n",
    "the derivative of $f(x)$ is $f'(x) = nx^{n-1}+(n-1)x^{n-2}$\n",
    "\n",
    "we can know that $f'(0)=0, f'(x) > 0$ for every $x>0$\n",
    "\n",
    "what's more,\n",
    "\n",
    "$$\n",
    "\\lim_{x \\to \\infty}f(x) = + \\infty\n",
    "$$\n",
    "\n",
    "so the function keeps increasing while $x>0$, from a negative $-a$ to $+\\infty$, and there exactly will be a positive root $\\xi (a)$"
   ]
  }
 ],
 "metadata": {
  "kernelspec": {
   "display_name": "Python 3 (ipykernel)",
   "language": "python",
   "name": "python3"
  },
  "language_info": {
   "codemirror_mode": {
    "name": "ipython",
    "version": 3
   },
   "file_extension": ".py",
   "mimetype": "text/x-python",
   "name": "python",
   "nbconvert_exporter": "python",
   "pygments_lexer": "ipython3",
   "version": "3.8.10"
  }
 },
 "nbformat": 4,
 "nbformat_minor": 5
}
