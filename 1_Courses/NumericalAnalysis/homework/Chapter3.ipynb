{
 "cells": [
  {
   "cell_type": "markdown",
   "id": "081919d1",
   "metadata": {},
   "source": [
    "**Exercise 3.1**\n",
    "\n",
    "Compare the results of the closed($n=1,2,3,4$) and open (n=0,1,2,3) Newton-Cotes formulas when approximating\n",
    "$$\n",
    "\\int_0^{\\pi/4} \\sin x {\\rm d}x=1-\\frac{\\sqrt{2}}{2} \\approx 0.29289322\n",
    "$$"
   ]
  },
  {
   "cell_type": "code",
   "execution_count": 2,
   "id": "6d820f60",
   "metadata": {},
   "outputs": [
    {
     "name": "stdout",
     "output_type": "stream",
     "text": [
      "[0.27768017517797877, 0.2929326283623319, 0.29291069307397666, 0.29289317308784235]\n",
      "[0.30055885495450846, 0.2979875323726426, 0.29285864972266396, 0.29286921866508686]\n"
     ]
    }
   ],
   "source": [
    "# compose numerical integration\n",
    "\n",
    "# import libs\n",
    "import numpy as np\n",
    "import math\n",
    "\n",
    "class NumericalIntegration:\n",
    "    def __init__(self, function):\n",
    "        self.f = function\n",
    "\n",
    "    def closed_newton_cotes(self, x_start, x_end):\n",
    "        # n from 1 to 4\n",
    "        # integration from x_start to x_end\n",
    "\n",
    "        # results\n",
    "        final = []\n",
    "\n",
    "        # Trapezoidal rule, n = 1\n",
    "        final1 = (x_end - x_start) / 2 * (self.f(x_end) + self.f(x_start))\n",
    "        final.append(final1)\n",
    "\n",
    "        # Simpson's rule, n = 2\n",
    "        a = x_start\n",
    "        b = x_end\n",
    "        h = (b-a) / 2\n",
    "        final2 = h / 3 * (self.f(a) + 4*self.f((a+b)/2) + self.f(b))\n",
    "        final.append(final2)\n",
    "\n",
    "        # Simpson's Three Eight rule, n = 3\n",
    "        h = (b-a) / 3\n",
    "        final3 = 3*h/8 * (self.f(a) + 3*self.f(a+h) + 3*self.f(b-h) + self.f(b))\n",
    "        final.append(final3)\n",
    "\n",
    "        # Rank 4, n = 4\n",
    "        h = (b-a) / 4\n",
    "        final4 = 2*h/45 * (7*self.f(a) + 32*self.f(a+h) + 12*self.f(a+2*h) + 32*self.f(b-h) + 7*self.f(b))\n",
    "        final.append(final4)\n",
    "\n",
    "        print(final)\n",
    "\n",
    "    def open_newton_cotes(self, x_start, x_end):\n",
    "        # n from 0 to 3\n",
    "        a = x_start\n",
    "        b = x_end\n",
    "        final = []\n",
    "\n",
    "        # n = 0, Midpoint rule\n",
    "        n = 0\n",
    "        h = (b-a) / (n+2)\n",
    "        final1 = 2*h*self.f(a+h)\n",
    "        final.append(final1)\n",
    "\n",
    "        # n = 1\n",
    "        n = 1\n",
    "        h = (b-a) / (n+2)\n",
    "        final2 = 3*h/2 * (self.f(a+h) + self.f(b-h))\n",
    "        final.append(final2)\n",
    "\n",
    "        # n = 2\n",
    "        n = 2\n",
    "        h = (b-a) / (n+2)\n",
    "        final3 = 4*h/3 * (2*self.f(a+h) - self.f(a+2*h) + 2*self.f(b-h))\n",
    "        final.append(final3)\n",
    "\n",
    "        # n = 3\n",
    "        n = 3\n",
    "        h = (b-a) / (n+2)\n",
    "        final4 = 5*h/24 * (11*self.f(a+h) + self.f(a+2*h) + self.f(b-2*h) + 11*self.f(b-h))\n",
    "        final.append(final4)\n",
    "\n",
    "        print(final)\n",
    "\n",
    "    def composite_newton_cotes(self, x_start, x_end, n):\n",
    "        a = x_start\n",
    "        b = x_end\n",
    "        final = []\n",
    "\n",
    "        # for Trapezoidal rule\n",
    "        h = (b-a) / n\n",
    "        sum = 0\n",
    "        for i in range(1, n-1+1, 1):\n",
    "            # range(1, n+1) is from 1 to n\n",
    "            sum += 2*self.f(a + i*h)\n",
    "        sum = sum + self.f(a) + self.f(b)\n",
    "        final1 = h/2*sum\n",
    "        final.append(final1)\n",
    "\n",
    "        # for Simpson's rule\n",
    "        if n%2 != 0:\n",
    "            raise Exception('n is not an even number, not for composite Simpsons rule')\n",
    "\n",
    "        h = (b-a) / n\n",
    "        xi0 = self.f(a) + self.f(b)\n",
    "        xi1 = 0\n",
    "        xi2 = 0\n",
    "        for j in range(1, int(n/2-1)+1, 1):\n",
    "            xi1 += self.f(a + 2*j*h)\n",
    "        for j in range(1, int(n/2)+1, 1):\n",
    "            xi2 += self.f(a + (2*j-1)*h)\n",
    "\n",
    "        final2 = h/3 * (xi0 + 2*xi1 + 4*xi2)\n",
    "        final.append(final2)\n",
    "\n",
    "        print(final)\n",
    "\n",
    "\n",
    "def func1(x):\n",
    "    return math.sin(x)\n",
    "\n",
    "ex1 = NumericalIntegration(func1)\n",
    "ex1.closed_newton_cotes(0, 3.1415926/4)\n",
    "ex1.open_newton_cotes(0, 3.1415926/4)"
   ]
  },
  {
   "cell_type": "markdown",
   "id": "2b944768",
   "metadata": {},
   "source": [
    "**Exercise 3.2**\n",
    "\n",
    "Use Trapezoidal rule and Simpson's rule to compute\n",
    "\n",
    "$$\n",
    "\\int_0^1 \\frac{\\sin x}{x} {\\rm d}x\n",
    "$$"
   ]
  },
  {
   "cell_type": "code",
   "execution_count": 3,
   "id": "0db0b95a",
   "metadata": {},
   "outputs": [
    {
     "name": "stdout",
     "output_type": "stream",
     "text": [
      "[0.9207354924039483, 0.9461458822735868, 0.9461109212233854, 0.9460830040636743]\n"
     ]
    }
   ],
   "source": [
    "def func2(x):\n",
    "    if x == 0:\n",
    "        return 1\n",
    "    else:\n",
    "        return math.sin(x)/x\n",
    "\n",
    "ex2 = NumericalIntegration(func2)\n",
    "ex2.closed_newton_cotes(0, 1)"
   ]
  },
  {
   "cell_type": "markdown",
   "id": "f64c1e29",
   "metadata": {},
   "source": [
    "**Exercise 3.3**\n",
    "\n",
    "Use composite Trapezoidal rule and composite Simpson's rule to approximate\n",
    "\n",
    "$$\n",
    "\\int_0^1 \\frac{1}{1+x^3} {\\rm d}x\n",
    "$$\n",
    "\n",
    "and\n",
    "\n",
    "$$\n",
    "\\int_0^1 \\frac{x}{\\ln(1+x)} {\\rm d}x\n",
    "$$"
   ]
  },
  {
   "cell_type": "code",
   "execution_count": 4,
   "id": "6297e3a1",
   "metadata": {},
   "outputs": [
    {
     "name": "stdout",
     "output_type": "stream",
     "text": [
      "[0.8317002442002442, 0.8357855107855109]\n",
      "[1.2287648751831044, 1.229269958305356]\n"
     ]
    }
   ],
   "source": [
    "def func3_1(x):\n",
    "    return 1/(1+x*x*x)\n",
    "\n",
    "def func3_2(x):\n",
    "    if x == 0:\n",
    "        return 1\n",
    "    else:\n",
    "        return x/(math.log(1+x))\n",
    "\n",
    "n = 4\n",
    "\n",
    "ex3_1 = NumericalIntegration(func3_1)\n",
    "ex3_1.composite_newton_cotes(0, 1, n)\n",
    "\n",
    "ex3_2 = NumericalIntegration(func3_2)\n",
    "ex3_2.composite_newton_cotes(0, 1, n)"
   ]
  },
  {
   "cell_type": "markdown",
   "id": "daa153f1",
   "metadata": {},
   "source": [
    "**Exercise 3.4**\n",
    "\n",
    "Determine values of $h$ that will ensure an approximation error of less than 0.00002 when approximating\n",
    "\n",
    "$$\n",
    "\\int_0^{\\pi}\\sin x {\\rm d}x\n",
    "$$\n",
    "\n",
    "and employing\n",
    "\n",
    "* Composite Trapezoidal rule\n",
    "* Composite Simpson's rule"
   ]
  },
  {
   "cell_type": "markdown",
   "id": "b71039b0",
   "metadata": {},
   "source": [
    "(**a**) The error from the Composite Trapezoidal rule for $f(x)=\\sin x$ on $[0, \\pi]$ is\n",
    "$$\n",
    "\\left| \\frac{b-a}{6}h^2f''(\\mu) \\right|=\n",
    "\\left| \\frac{\\pi h^2}{12}f''(\\mu) \\right|=\n",
    "\\left| \\frac{\\pi h^2}{12}(-\\sin \\mu) \\right|=\n",
    "\\frac{\\pi h^2}{12} \\left| \\sin\\mu \\right|\n",
    "$$\n",
    "To ensure sufficient accuracy with this technique, we need to have\n",
    "$$\n",
    "\\frac{\\pi h^2}{12} \\left| \\sin\\mu \\right| \\leq \\frac{\\pi h^2}{12} < 0.00002\n",
    "$$\n",
    "Since $h=\\pi/n$, we need\n",
    "$$\n",
    "\\frac{\\pi^3}{12n^2}< 0.00002\n",
    "$$\n",
    "which implies that\n",
    "$$\n",
    "n> \\left( \\frac{\\pi^3}{12(0.00002)} \\right)^{1/2} \\approx359.44\n",
    "$$\n",
    "and the Composite Trapezoidal rule requires $n \\geq 360$\n",
    "\n",
    "(**b**) The error form for the Composite Simpson's rule for $f(x) = \\sin x$ on $[0, \\pi]$ is\n",
    "$$\n",
    "\\left| \\frac{b-a}{180}h^4f^{(4)}(\\mu) \\right|=\n",
    "\\frac{\\pi h^4}{180} \\left| \\sin\\mu \\right|\n",
    "\\leq \\frac{\\pi h^4}{180} < 0.00002\n",
    "$$\n",
    "Since $h=\\pi/n$, we need\n",
    "$$\n",
    "\\frac{\\pi^5}{180 n^4} < 0.00002\n",
    "$$\n",
    "which implies that\n",
    "$$\n",
    "n> \\left( \\frac{\\pi^5}{180(0.00002)} \\right)^{1/2} \\approx 17.07\n",
    "$$\n",
    "So, the Composite Simpson's rule requires only $n\\geq 18$"
   ]
  }
 ],
 "metadata": {
  "kernelspec": {
   "display_name": "Python 3.8.10 64-bit",
   "language": "python",
   "name": "python3"
  },
  "language_info": {
   "codemirror_mode": {
    "name": "ipython",
    "version": 3
   },
   "file_extension": ".py",
   "mimetype": "text/x-python",
   "name": "python",
   "nbconvert_exporter": "python",
   "pygments_lexer": "ipython3",
   "version": "3.8.10"
  },
  "vscode": {
   "interpreter": {
    "hash": "916dbcbb3f70747c44a77c7bcd40155683ae19c65e1c03b4aa3499c5328201f1"
   }
  }
 },
 "nbformat": 4,
 "nbformat_minor": 5
}
