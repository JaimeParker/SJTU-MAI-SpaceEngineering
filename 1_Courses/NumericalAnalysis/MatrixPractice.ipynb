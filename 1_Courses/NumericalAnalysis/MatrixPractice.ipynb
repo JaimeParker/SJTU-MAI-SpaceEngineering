{
 "cells": [
  {
   "cell_type": "code",
   "execution_count": 8,
   "outputs": [],
   "source": [
    "import numpy as np\n",
    "from fractions import Fraction\n",
    "# fraction format output\n",
    "np.set_printoptions(formatter={'all':lambda x: str(Fraction(x).limit_denominator())})"
   ],
   "metadata": {
    "collapsed": false,
    "pycharm": {
     "name": "#%%\n"
    }
   }
  },
  {
   "cell_type": "markdown",
   "source": [
    "**特征值和特征向量**"
   ],
   "metadata": {
    "collapsed": false,
    "pycharm": {
     "name": "#%% md\n"
    }
   }
  },
  {
   "cell_type": "code",
   "execution_count": 9,
   "outputs": [
    {
     "name": "stdout",
     "output_type": "stream",
     "text": [
      "eigen value: [2 1 1]\n",
      "eigen vector [[0 192060/470449 192060/470449]\n",
      " [0 384120/470449 384120/470449]\n",
      " [1 -192060/470449 -192060/470449]]\n"
     ]
    }
   ],
   "source": [
    "A = np.array([\n",
    "    [-1, 1, 0],\n",
    "    [-4, 3, 0],\n",
    "    [1, 0, 2]\n",
    "])\n",
    "\n",
    "eigen_value, eigen_vector = np.linalg.eig(A)\n",
    "print(\"eigen value:\", eigen_value)\n",
    "print(\"eigen vector\", eigen_vector)"
   ],
   "metadata": {
    "collapsed": false,
    "pycharm": {
     "name": "#%%\n"
    }
   }
  },
  {
   "cell_type": "markdown",
   "source": [
    "**对角化**"
   ],
   "metadata": {
    "collapsed": false,
    "pycharm": {
     "name": "#%% md\n"
    }
   }
  },
  {
   "cell_type": "code",
   "execution_count": 10,
   "outputs": [
    {
     "name": "stdout",
     "output_type": "stream",
     "text": [
      "P:  Matrix([[1.00000000000000, 0, 0], [0, 1.00000000000000, -1.00000000000000], [0, 0, 1.51929083932157e-64]])\n",
      "diag B:  Matrix([[2.00000000000000, 0, 0], [0, 0.500000000000000, 0], [0, 0, 0.500000000000000]])\n"
     ]
    }
   ],
   "source": [
    "# A = P*B*P^{-1}\n",
    "from sympy import *\n",
    "A = Matrix([\n",
    "    [2, 0, 0],\n",
    "    [0, 0.5, 1],\n",
    "    [0, 0, 0.5]\n",
    "])\n",
    "\n",
    "P, B = A.diagonalize()\n",
    "print(\"P: \", P)\n",
    "print(\"diag B: \", B)"
   ],
   "metadata": {
    "collapsed": false,
    "pycharm": {
     "name": "#%%\n"
    }
   }
  },
  {
   "cell_type": "markdown",
   "source": [
    "**Jordan 标准型**"
   ],
   "metadata": {
    "collapsed": false,
    "pycharm": {
     "name": "#%% md\n"
    }
   }
  },
  {
   "cell_type": "code",
   "execution_count": 11,
   "outputs": [
    {
     "name": "stdout",
     "output_type": "stream",
     "text": [
      "Matrix([[-1, 1, 1, 1], [1, -1, 0, 0], [0, 0, -1, 0], [0, 1, 1, 0]])\n",
      "Matrix([[1, 0, 0, 0], [0, 2, 0, 0], [0, 0, 4, 1], [0, 0, 0, 4]])\n"
     ]
    }
   ],
   "source": [
    "A = np.array([\n",
    "    [5, 4, 2, 1],\n",
    "    [0, 1, -1, -1],\n",
    "    [-1, -1, 3, 0],\n",
    "    [1, 1, -1, 2]\n",
    "])\n",
    "\n",
    "m = Matrix(A)\n",
    "\n",
    "P, J = m.jordan_form()\n",
    "\n",
    "print(P)\n",
    "print(J)"
   ],
   "metadata": {
    "collapsed": false,
    "pycharm": {
     "name": "#%%\n"
    }
   }
  },
  {
   "cell_type": "markdown",
   "source": [
    "**SVD 奇异值分解**"
   ],
   "metadata": {
    "collapsed": false,
    "pycharm": {
     "name": "#%% md\n"
    }
   }
  },
  {
   "cell_type": "code",
   "execution_count": 12,
   "outputs": [
    {
     "data": {
      "text/plain": "(array([[-253855/262273, 193320/999931, 4921/34765, 25135/331523],\n        [-25612/825273, -65323/219315, 123157/207208, -573786/768779],\n        [32899/297245, 525551/612485, -152783/950600, -217841/458592],\n        [-218567/977957, -317454/855691, -403917/521080, -401156/872175]]),\n array([1930449/277330, 1407176/377783, 1922646/925055, 289361/487292]),\n array([[-613445/825347, -362419/595432, -129413/667652, -80453/404681],\n        [-70422/999701, -155243/767350, 735421/754695, -25570/379761],\n        [8763/195166, 140837/535980, -8783/998732, -946171/981735],\n        [514447/775038, -337873/468748, -94751/838249, -139873/849956]]))"
     },
     "execution_count": 12,
     "metadata": {},
     "output_type": "execute_result"
    }
   ],
   "source": [
    "A = np.array([\n",
    "    [5, 4, 2, 1],\n",
    "    [0, 1, -1, -1],\n",
    "    [-1, -1, 3, 0],\n",
    "    [1, 1, -1, 2]\n",
    "])\n",
    "\n",
    "np.linalg.svd(A)"
   ],
   "metadata": {
    "collapsed": false,
    "pycharm": {
     "name": "#%%\n"
    }
   }
  },
  {
   "cell_type": "markdown",
   "source": [
    "**QR 分解**"
   ],
   "metadata": {
    "collapsed": false,
    "pycharm": {
     "name": "#%% md\n"
    }
   }
  },
  {
   "cell_type": "code",
   "execution_count": null,
   "outputs": [],
   "source": [],
   "metadata": {
    "collapsed": false,
    "pycharm": {
     "name": "#%%\n"
    }
   }
  }
 ],
 "metadata": {
  "kernelspec": {
   "display_name": "Python 3",
   "language": "python",
   "name": "python3"
  },
  "language_info": {
   "codemirror_mode": {
    "name": "ipython",
    "version": 2
   },
   "file_extension": ".py",
   "mimetype": "text/x-python",
   "name": "python",
   "nbconvert_exporter": "python",
   "pygments_lexer": "ipython2",
   "version": "2.7.6"
  }
 },
 "nbformat": 4,
 "nbformat_minor": 0
}