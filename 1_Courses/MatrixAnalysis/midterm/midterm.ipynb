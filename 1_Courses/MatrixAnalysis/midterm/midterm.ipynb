{
 "cells": [
  {
   "cell_type": "code",
   "execution_count": 16,
   "id": "826f1065",
   "metadata": {},
   "outputs": [],
   "source": [
    "import numpy as np\n",
    "from numpy.linalg import inv\n",
    "from numpy.linalg import eig\n",
    "from numpy.linalg import eigh\n",
    "\n",
    "a = np.array([[-4, -3, -3],\n",
    "              [0, -1, 0],\n",
    "              [6, 6, 5]])\n",
    "\n",
    "a_inv = inv(a)\n",
    "a_eig = eig(a)"
   ]
  },
  {
   "cell_type": "code",
   "execution_count": 12,
   "id": "65496dbd",
   "metadata": {},
   "outputs": [
    {
     "data": {
      "text/plain": [
       "array([[-2.5, -1.5, -1.5],\n",
       "       [-0. , -1. , -0. ],\n",
       "       [ 3. ,  3. ,  2. ]])"
      ]
     },
     "execution_count": 12,
     "metadata": {},
     "output_type": "execute_result"
    }
   ],
   "source": [
    "a_inv"
   ]
  },
  {
   "cell_type": "code",
   "execution_count": 13,
   "id": "baf2ae35",
   "metadata": {},
   "outputs": [
    {
     "data": {
      "text/plain": [
       "array([-1.,  2., -1.])"
      ]
     },
     "execution_count": 13,
     "metadata": {},
     "output_type": "execute_result"
    }
   ],
   "source": [
    "a_eig[0]"
   ]
  },
  {
   "cell_type": "code",
   "execution_count": 14,
   "id": "391b8cd9",
   "metadata": {},
   "outputs": [
    {
     "data": {
      "text/plain": [
       "array([[-0.70710678,  0.4472136 , -0.40824829],\n",
       "       [ 0.        ,  0.        ,  0.81649658],\n",
       "       [ 0.70710678, -0.89442719, -0.40824829]])"
      ]
     },
     "execution_count": 14,
     "metadata": {},
     "output_type": "execute_result"
    }
   ],
   "source": [
    "a_eig[1]"
   ]
  },
  {
   "cell_type": "code",
   "execution_count": 17,
   "id": "d612d34a",
   "metadata": {},
   "outputs": [],
   "source": [
    "a_eigh = eigh(a)"
   ]
  },
  {
   "cell_type": "code",
   "execution_count": 19,
   "id": "f248722b",
   "metadata": {},
   "outputs": [
    {
     "data": {
      "text/plain": [
       "(array([-8.30099389, -2.27757628, 10.57857017]),\n",
       " array([[-0.73306142,  0.58721586, -0.34321785],\n",
       "        [-0.43184431, -0.7916823 , -0.43214537],\n",
       "        [ 0.52548211,  0.16857242, -0.83393758]]))"
      ]
     },
     "execution_count": 19,
     "metadata": {},
     "output_type": "execute_result"
    }
   ],
   "source": [
    "a_eigh"
   ]
  },
  {
   "cell_type": "code",
   "execution_count": null,
   "id": "43e73be6",
   "metadata": {},
   "outputs": [],
   "source": []
  }
 ],
 "metadata": {
  "kernelspec": {
   "display_name": "Python 3 (ipykernel)",
   "language": "python",
   "name": "python3"
  },
  "language_info": {
   "codemirror_mode": {
    "name": "ipython",
    "version": 3
   },
   "file_extension": ".py",
   "mimetype": "text/x-python",
   "name": "python",
   "nbconvert_exporter": "python",
   "pygments_lexer": "ipython3",
   "version": "3.8.10"
  }
 },
 "nbformat": 4,
 "nbformat_minor": 5
}
